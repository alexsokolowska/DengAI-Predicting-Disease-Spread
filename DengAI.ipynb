{
 "cells": [
  {
   "cell_type": "markdown",
   "metadata": {},
   "source": [
    "# Task - Predicting dengue fever cases\n",
    "\n",
    "task url: https://www.drivendata.org/competitions/44/dengai-predicting-disease-spread/page/80/\n",
    "\n",
    "Dengue fever is a mosquito-borne disease that occurs in tropical and sub-tropical parts of the world. In mild cases, symptoms are similar to the flu: fever, rash, and muscle and joint pain. In severe cases, dengue fever can cause severe bleeding, low blood pressure, and even death.\n",
    "\n",
    "Because it is carried by mosquitoes, the transmission dynamics of dengue are related to climate variables such as temperature and precipitation. Although the relationship to climate is complex, a growing number of scientists argue that climate change is likely to produce distributional shifts that will have significant public health implications worldwide.\n",
    "\n",
    "In recent years dengue fever has been spreading. Historically, the disease has been most prevalent in Southeast Asia and the Pacific islands.\n",
    "\n",
    "Using environmental data collected by various U.S. Federal Government agencies—from the Centers for Disease Control and Prevention to the National Oceanic and Atmospheric Administration in the U.S. Department of Commerce—can you predict the number of dengue fever cases reported each week in San Juan, Puerto Rico and Iquitos, Peru?\n",
    "\n",
    "Your task is to predict the number of dengue cases each week (in each location) based on environmental variables describing changes in temperature, precipitation, vegetation, and more.\n",
    "\n",
    "An understanding of the relationship between climate and dengue dynamics can improve research initiatives and resource allocation to help fight life-threatening pandemics.\n",
    "\n",
    "## Data description\n",
    "\n",
    "*City and date indicators*\n",
    "- city – City abbreviations: sj for San Juan and iq for Iquitos\n",
    "- week_start_date – Date given in yyyy-mm-dd format\n",
    "\n",
    "*NOAA's GHCN daily climate data weather station measurements*\n",
    "- station_max_temp_c – Maximum temperature\n",
    "- station_min_temp_c – Minimum temperature\n",
    "- station_avg_temp_c – Average temperature\n",
    "- station_precip_mm – Total precipitation\n",
    "- station_diur_temp_rng_c – Diurnal temperature range\n",
    "\n",
    "*PERSIANN satellite precipitation measurements (0.25x0.25 degree scale)*\n",
    "- precipitation_amt_mm – Total precipitation\n",
    "- NOAA's NCEP Climate Forecast System Reanalysis measurements (0.5x0.5 degree scale)\n",
    "- reanalysis_sat_precip_amt_mm – Total precipitation\n",
    "- reanalysis_dew_point_temp_k – Mean dew point temperature\n",
    "- reanalysis_air_temp_k – Mean air temperature\n",
    "- reanalysis_relative_humidity_percent – Mean relative humidity\n",
    "- reanalysis_specific_humidity_g_per_kg – Mean specific humidity\n",
    "- reanalysis_precip_amt_kg_per_m2 – Total precipitation\n",
    "- reanalysis_max_air_temp_k – Maximum air temperature\n",
    "- reanalysis_min_air_temp_k – Minimum air temperature\n",
    "- reanalysis_avg_temp_k – Average air temperature\n",
    "- reanalysis_tdtr_k – Diurnal temperature range\n",
    "\n",
    "*Satellite vegetation - Normalized difference vegetation index (NDVI) - NOAA's CDR Normalized Difference Vegetation Index (0.5x0.5 degree scale) measurements*\n",
    "- ndvi_se – Pixel southeast of city centroid\n",
    "- ndvi_sw – Pixel southwest of city centroid\n",
    "- ndvi_ne – Pixel northeast of city centroid\n",
    "- ndvi_nw – Pixel northwest of city centroid\n",
    "\n",
    "## Data exploration"
   ]
  },
  {
   "cell_type": "code",
   "execution_count": 1,
   "metadata": {},
   "outputs": [
    {
     "name": "stdout",
     "output_type": "stream",
     "text": [
      "DengAI.ipynb               dengue_features_train.csv\r\n",
      "README.md                  dengue_labels_train.csv\r\n",
      "dengue_features_test.csv   submission_format.csv\r\n"
     ]
    }
   ],
   "source": [
    "ls"
   ]
  },
  {
   "cell_type": "code",
   "execution_count": 2,
   "metadata": {},
   "outputs": [],
   "source": [
    "import pandas as pd\n",
    "test = pd.read_csv(\"./dengue_features_test.csv\")\n",
    "train = pd.read_csv(\"./dengue_features_train.csv\")\n",
    "train_labels = pd.read_csv(\"./dengue_labels_train.csv\")\n"
   ]
  },
  {
   "cell_type": "code",
   "execution_count": 4,
   "metadata": {},
   "outputs": [
    {
     "data": {
      "text/plain": [
       "Index(['city', 'year', 'weekofyear', 'week_start_date', 'ndvi_ne', 'ndvi_nw',\n",
       "       'ndvi_se', 'ndvi_sw', 'precipitation_amt_mm', 'reanalysis_air_temp_k',\n",
       "       'reanalysis_avg_temp_k', 'reanalysis_dew_point_temp_k',\n",
       "       'reanalysis_max_air_temp_k', 'reanalysis_min_air_temp_k',\n",
       "       'reanalysis_precip_amt_kg_per_m2',\n",
       "       'reanalysis_relative_humidity_percent', 'reanalysis_sat_precip_amt_mm',\n",
       "       'reanalysis_specific_humidity_g_per_kg', 'reanalysis_tdtr_k',\n",
       "       'station_avg_temp_c', 'station_diur_temp_rng_c', 'station_max_temp_c',\n",
       "       'station_min_temp_c', 'station_precip_mm'],\n",
       "      dtype='object')"
      ]
     },
     "execution_count": 4,
     "metadata": {},
     "output_type": "execute_result"
    }
   ],
   "source": [
    "test.columns"
   ]
  },
  {
   "cell_type": "code",
   "execution_count": null,
   "metadata": {},
   "outputs": [],
   "source": []
  }
 ],
 "metadata": {
  "kernelspec": {
   "display_name": "Python 3",
   "language": "python",
   "name": "python3"
  },
  "language_info": {
   "codemirror_mode": {
    "name": "ipython",
    "version": 3
   },
   "file_extension": ".py",
   "mimetype": "text/x-python",
   "name": "python",
   "nbconvert_exporter": "python",
   "pygments_lexer": "ipython3",
   "version": "3.7.3"
  }
 },
 "nbformat": 4,
 "nbformat_minor": 2
}
